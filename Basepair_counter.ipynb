{
  "nbformat": 4,
  "nbformat_minor": 0,
  "metadata": {
    "colab": {
      "provenance": [],
      "authorship_tag": "ABX9TyNbFHNV4zBFehplxydBWAjy",
      "include_colab_link": true
    },
    "kernelspec": {
      "name": "python3",
      "display_name": "Python 3"
    },
    "language_info": {
      "name": "python"
    }
  },
  "cells": [
    {
      "cell_type": "markdown",
      "metadata": {
        "id": "view-in-github",
        "colab_type": "text"
      },
      "source": [
        "<a href=\"https://colab.research.google.com/github/jrhtdo/Langya-virus/blob/main/Basepair_counter.ipynb\" target=\"_parent\"><img src=\"https://colab.research.google.com/assets/colab-badge.svg\" alt=\"Open In Colab\"/></a>"
      ]
    },
    {
      "cell_type": "code",
      "execution_count": null,
      "metadata": {
        "id": "1MtHY7kLttcm"
      },
      "outputs": [],
      "source": [
        "#@title Basepair counter { form-width: \"100%\", display-mode: \"form\" }\n",
        "#@markdown This tool was designed to count the total number of basepairs in sequence files that contains contigs or multiple sequences. It only counts the basepairs and omits sequence titles, blanks or newline characters.\n",
        "from google.colab import files\n",
        "\n",
        "uploaded = files.upload()\n",
        "\n",
        "for fn in uploaded.keys():\n",
        "  print('User uploaded file \"{name}\" with length {length} bytes'.format(\n",
        "      name=fn, length=len(uploaded[fn])))\n",
        "  f=uploaded[fn].decode('utf-8')\n",
        "\n",
        "\n",
        "z=int(0)\n",
        "\n",
        "y=f.splitlines()\n",
        "for line in y:\n",
        "    b=line.replace('\\n','')\n",
        "    c=b.replace('\\n','')\n",
        "    \n",
        "    if c.startswith('>')==True:\n",
        "        z+=0\n",
        "    elif c.startswith('>')==False:\n",
        "        z+=len(c)\n",
        "print(z)\n",
        "\n",
        "        \n",
        "        "
      ]
    }
  ]
}